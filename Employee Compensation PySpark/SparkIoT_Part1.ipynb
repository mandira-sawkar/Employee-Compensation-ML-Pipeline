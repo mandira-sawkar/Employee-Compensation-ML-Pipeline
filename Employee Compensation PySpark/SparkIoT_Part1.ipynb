{
 "cells": [
  {
   "cell_type": "code",
   "execution_count": 2,
   "id": "79669aea-c0d9-4807-aadd-c799333e6887",
   "metadata": {},
   "outputs": [],
   "source": [
    "import os\n",
    "from pyspark.sql import SparkSession\n",
    "import pandas as pd\n",
    "import numpy as np\n",
    "from pyspark.sql.functions import col\n",
    "from pyspark.sql.functions import expr\n",
    "from pyspark.sql.functions import when, isnull"
   ]
  },
  {
   "cell_type": "code",
   "execution_count": 3,
   "id": "e7f2086a-d624-42aa-99fa-c1e0ebbacaeb",
   "metadata": {},
   "outputs": [
    {
     "name": "stdout",
     "output_type": "stream",
     "text": [
      "23/02/11 02:30:42 WARN Utils: Your hostname, DESKTOP-K4JEK0C resolves to a loopback address: 127.0.1.1; using 172.29.234.4 instead (on interface eth0)\n",
      "23/02/11 02:30:42 WARN Utils: Set SPARK_LOCAL_IP if you need to bind to another address\n"
     ]
    },
    {
     "name": "stderr",
     "output_type": "stream",
     "text": [
      "Setting default log level to \"WARN\".\n",
      "To adjust logging level use sc.setLogLevel(newLevel). For SparkR, use setLogLevel(newLevel).\n"
     ]
    },
    {
     "name": "stdout",
     "output_type": "stream",
     "text": [
      "23/02/11 02:30:44 WARN NativeCodeLoader: Unable to load native-hadoop library for your platform... using builtin-java classes where applicable\n",
      "23/02/11 02:30:45 WARN Utils: Service 'SparkUI' could not bind on port 4040. Attempting port 4041.\n",
      "23/02/11 02:30:45 WARN Utils: Service 'SparkUI' could not bind on port 4041. Attempting port 4042.\n",
      "23/02/11 02:30:45 WARN Utils: Service 'SparkUI' could not bind on port 4042. Attempting port 4043.\n",
      "23/02/11 02:30:45 WARN Utils: Service 'SparkUI' could not bind on port 4043. Attempting port 4044.\n"
     ]
    }
   ],
   "source": [
    "#Create SparkSession\",\n",
    "if 'spark' not in globals():\n",
    "    spark = SparkSession.builder.appName('nycparking').getOrCreate()\n",
    "else:\n",
    "    print(f'Spark {spark.version} is already initalized.')"
   ]
  },
  {
   "cell_type": "code",
   "execution_count": 5,
   "id": "c8f664c4-7241-45e1-985a-ddce47367a46",
   "metadata": {},
   "outputs": [
    {
     "name": "stderr",
     "output_type": "stream",
     "text": [
      "                                                                                \r"
     ]
    },
    {
     "data": {
      "text/html": [
       "<div>\n",
       "<style scoped>\n",
       "    .dataframe tbody tr th:only-of-type {\n",
       "        vertical-align: middle;\n",
       "    }\n",
       "\n",
       "    .dataframe tbody tr th {\n",
       "        vertical-align: top;\n",
       "    }\n",
       "\n",
       "    .dataframe thead th {\n",
       "        text-align: right;\n",
       "    }\n",
       "</style>\n",
       "<table border=\"1\" class=\"dataframe\">\n",
       "  <thead>\n",
       "    <tr style=\"text-align: right;\">\n",
       "      <th></th>\n",
       "      <th>battery_level</th>\n",
       "      <th>c02_level</th>\n",
       "      <th>cca2</th>\n",
       "      <th>cca3</th>\n",
       "      <th>cn</th>\n",
       "      <th>device_id</th>\n",
       "      <th>device_name</th>\n",
       "      <th>humidity</th>\n",
       "      <th>ip</th>\n",
       "      <th>latitude</th>\n",
       "      <th>lcd</th>\n",
       "      <th>longitude</th>\n",
       "      <th>scale</th>\n",
       "      <th>temp</th>\n",
       "      <th>timestamp</th>\n",
       "    </tr>\n",
       "  </thead>\n",
       "  <tbody>\n",
       "    <tr>\n",
       "      <th>0</th>\n",
       "      <td>8</td>\n",
       "      <td>868</td>\n",
       "      <td>US</td>\n",
       "      <td>USA</td>\n",
       "      <td>United States</td>\n",
       "      <td>1</td>\n",
       "      <td>meter-gauge-1xbYRYcj</td>\n",
       "      <td>51</td>\n",
       "      <td>68.161.225.1</td>\n",
       "      <td>38.00</td>\n",
       "      <td>green</td>\n",
       "      <td>-97.00</td>\n",
       "      <td>Celsius</td>\n",
       "      <td>34</td>\n",
       "      <td>1458444054093</td>\n",
       "    </tr>\n",
       "    <tr>\n",
       "      <th>1</th>\n",
       "      <td>7</td>\n",
       "      <td>1473</td>\n",
       "      <td>NO</td>\n",
       "      <td>NOR</td>\n",
       "      <td>Norway</td>\n",
       "      <td>2</td>\n",
       "      <td>sensor-pad-2n2Pea</td>\n",
       "      <td>70</td>\n",
       "      <td>213.161.254.1</td>\n",
       "      <td>62.47</td>\n",
       "      <td>red</td>\n",
       "      <td>6.15</td>\n",
       "      <td>Celsius</td>\n",
       "      <td>11</td>\n",
       "      <td>1458444054119</td>\n",
       "    </tr>\n",
       "    <tr>\n",
       "      <th>2</th>\n",
       "      <td>2</td>\n",
       "      <td>1556</td>\n",
       "      <td>IT</td>\n",
       "      <td>ITA</td>\n",
       "      <td>Italy</td>\n",
       "      <td>3</td>\n",
       "      <td>device-mac-36TWSKiT</td>\n",
       "      <td>44</td>\n",
       "      <td>88.36.5.1</td>\n",
       "      <td>42.83</td>\n",
       "      <td>red</td>\n",
       "      <td>12.83</td>\n",
       "      <td>Celsius</td>\n",
       "      <td>19</td>\n",
       "      <td>1458444054120</td>\n",
       "    </tr>\n",
       "    <tr>\n",
       "      <th>3</th>\n",
       "      <td>6</td>\n",
       "      <td>1080</td>\n",
       "      <td>US</td>\n",
       "      <td>USA</td>\n",
       "      <td>United States</td>\n",
       "      <td>4</td>\n",
       "      <td>sensor-pad-4mzWkz</td>\n",
       "      <td>32</td>\n",
       "      <td>66.39.173.154</td>\n",
       "      <td>44.06</td>\n",
       "      <td>yellow</td>\n",
       "      <td>-121.32</td>\n",
       "      <td>Celsius</td>\n",
       "      <td>28</td>\n",
       "      <td>1458444054121</td>\n",
       "    </tr>\n",
       "    <tr>\n",
       "      <th>4</th>\n",
       "      <td>4</td>\n",
       "      <td>931</td>\n",
       "      <td>PH</td>\n",
       "      <td>PHL</td>\n",
       "      <td>Philippines</td>\n",
       "      <td>5</td>\n",
       "      <td>therm-stick-5gimpUrBB</td>\n",
       "      <td>62</td>\n",
       "      <td>203.82.41.9</td>\n",
       "      <td>14.58</td>\n",
       "      <td>green</td>\n",
       "      <td>120.97</td>\n",
       "      <td>Celsius</td>\n",
       "      <td>25</td>\n",
       "      <td>1458444054122</td>\n",
       "    </tr>\n",
       "  </tbody>\n",
       "</table>\n",
       "</div>"
      ],
      "text/plain": [
       "   battery_level  c02_level cca2 cca3             cn  device_id  \\\n",
       "0              8        868   US  USA  United States          1   \n",
       "1              7       1473   NO  NOR         Norway          2   \n",
       "2              2       1556   IT  ITA          Italy          3   \n",
       "3              6       1080   US  USA  United States          4   \n",
       "4              4        931   PH  PHL    Philippines          5   \n",
       "\n",
       "             device_name  humidity             ip  latitude     lcd  \\\n",
       "0   meter-gauge-1xbYRYcj        51   68.161.225.1     38.00   green   \n",
       "1      sensor-pad-2n2Pea        70  213.161.254.1     62.47     red   \n",
       "2    device-mac-36TWSKiT        44      88.36.5.1     42.83     red   \n",
       "3      sensor-pad-4mzWkz        32  66.39.173.154     44.06  yellow   \n",
       "4  therm-stick-5gimpUrBB        62    203.82.41.9     14.58   green   \n",
       "\n",
       "   longitude    scale  temp      timestamp  \n",
       "0     -97.00  Celsius    34  1458444054093  \n",
       "1       6.15  Celsius    11  1458444054119  \n",
       "2      12.83  Celsius    19  1458444054120  \n",
       "3    -121.32  Celsius    28  1458444054121  \n",
       "4     120.97  Celsius    25  1458444054122  "
      ]
     },
     "execution_count": 5,
     "metadata": {},
     "output_type": "execute_result"
    }
   ],
   "source": [
    "DATA_DIR = \"/mnt/c/Users/raveendra sawkar/Documents/IITH Docs/IIITH Assgn/Spark/\"\n",
    "original_df = spark.read.json(os.path.join(DATA_DIR, 'iot_devices.json'))\n",
    "original_df.limit(5).toPandas().head()"
   ]
  },
  {
   "cell_type": "code",
   "execution_count": 6,
   "id": "c055eaf3-eb2d-4028-b940-30f613881bfd",
   "metadata": {},
   "outputs": [],
   "source": [
    "original_df.createOrReplaceTempView(\"iot\")"
   ]
  },
  {
   "cell_type": "code",
   "execution_count": 7,
   "id": "e04f4aad-3643-4528-b1ac-fe115318ca36",
   "metadata": {},
   "outputs": [
    {
     "name": "stdout",
     "output_type": "stream",
     "text": [
      "+---------+--------------------+\n",
      "|device_id|         device_name|\n",
      "+---------+--------------------+\n",
      "|        1|meter-gauge-1xbYRYcj|\n",
      "|        2|   sensor-pad-2n2Pea|\n",
      "|        3| device-mac-36TWSKiT|\n",
      "|        4|   sensor-pad-4mzWkz|\n",
      "|        5|therm-stick-5gimp...|\n",
      "|        6|sensor-pad-6al7RT...|\n",
      "|        7|meter-gauge-7GeDoanM|\n",
      "|        8|sensor-pad-8xUD6p...|\n",
      "|        9| device-mac-9GcjZ2pw|\n",
      "|       10|sensor-pad-10Bsyw...|\n",
      "|       11|meter-gauge-11dlM...|\n",
      "|       12|sensor-pad-12Y2kIm0o|\n",
      "|       13|meter-gauge-13Gro...|\n",
      "|       14|sensor-pad-14QL93...|\n",
      "|       15|  device-mac-15se6mZ|\n",
      "|       16|sensor-pad-16aXmI...|\n",
      "|       17|meter-gauge-17zb8...|\n",
      "|       18|sensor-pad-18XULN9Xv|\n",
      "|       19|meter-gauge-19eg1...|\n",
      "|       20|sensor-pad-20gFNf...|\n",
      "+---------+--------------------+\n",
      "only showing top 20 rows\n",
      "\n"
     ]
    }
   ],
   "source": [
    "spark.sql(\"select device_id, device_name from iot\").show()"
   ]
  },
  {
   "cell_type": "code",
   "execution_count": 12,
   "id": "b57f7999-eae1-4f8f-8aac-d2b4903d614f",
   "metadata": {},
   "outputs": [
    {
     "name": "stdout",
     "output_type": "stream",
     "text": [
      "+------------------------+----+\n",
      "|Countrywise_Device_Count|cca3|\n",
      "+------------------------+----+\n",
      "|                   70405| USA|\n",
      "|                   14455| CHN|\n",
      "|                   12100| JPN|\n",
      "|                   11879| KOR|\n",
      "|                    7942| DEU|\n",
      "|                    6486| GBR|\n",
      "|                    6041| CAN|\n",
      "|                    5989| RUS|\n",
      "|                    5305| FRA|\n",
      "|                    3224| BRA|\n",
      "|                    3119| AUS|\n",
      "|                    2915| ITA|\n",
      "|                    2880| SWE|\n",
      "|                    2744| POL|\n",
      "|                    2488| NLD|\n",
      "|                    2310| ESP|\n",
      "|                    2128| TWN|\n",
      "|                    1867| IND|\n",
      "|                    1507| CZE|\n",
      "|                    1487| NOR|\n",
      "+------------------------+----+\n",
      "only showing top 20 rows\n",
      "\n"
     ]
    }
   ],
   "source": [
    "spark.sql(\"SELECT COUNT(device_id) AS Countrywise_Device_Count, cca3 FROM iot GROUP BY cca3 ORDER BY Countrywise_Device_Count DESC\").show()"
   ]
  },
  {
   "cell_type": "code",
   "execution_count": 47,
   "id": "7c09def8-c0ce-418f-8eff-723e6920a931",
   "metadata": {},
   "outputs": [
    {
     "name": "stdout",
     "output_type": "stream",
     "text": [
      "+----+------+\n",
      "|cca3|MaxCO2|\n",
      "+----+------+\n",
      "| LVA|  1599|\n",
      "| MEX|  1599|\n",
      "| BOL|  1599|\n",
      "| ITA|  1599|\n",
      "| UKR|  1599|\n",
      "| GBR|  1599|\n",
      "| ZAF|  1599|\n",
      "| AUS|  1599|\n",
      "| KNA|  1599|\n",
      "| HUN|  1599|\n",
      "| THA|  1599|\n",
      "| NOR|  1599|\n",
      "| FIN|  1599|\n",
      "| PER|  1599|\n",
      "| NLD|  1599|\n",
      "| TUR|  1599|\n",
      "| USA|  1599|\n",
      "| BRA|  1599|\n",
      "| FRA|  1599|\n",
      "| MYS|  1599|\n",
      "| CAN|  1599|\n",
      "| RUS|  1599|\n",
      "| ROU|  1599|\n",
      "| ARG|  1599|\n",
      "| DNK|  1599|\n",
      "| ESP|  1599|\n",
      "| IRL|  1599|\n",
      "| SWE|  1599|\n",
      "| IND|  1599|\n",
      "| KAZ|  1599|\n",
      "| HKG|  1599|\n",
      "| CHN|  1599|\n",
      "| DEU|  1599|\n",
      "| BGR|  1599|\n",
      "| JPN|  1599|\n",
      "| CHE|  1599|\n",
      "| PHL|  1599|\n",
      "| CZE|  1599|\n",
      "| EGY|  1599|\n",
      "| VNM|  1599|\n",
      "| ARE|  1599|\n",
      "| KOR|  1599|\n",
      "| BMU|  1599|\n",
      "| TWN|  1599|\n",
      "| POL|  1599|\n",
      "| GTM|  1598|\n",
      "| QAT|  1598|\n",
      "| CRI|  1598|\n",
      "| MLT|  1598|\n",
      "| HTI|  1598|\n",
      "+----+------+\n",
      "only showing top 50 rows\n",
      "\n"
     ]
    }
   ],
   "source": [
    "spark.sql(\"SELECT cca3, MAX(c02_level) as MaxCO2 FROM iot GROUP BY cca3 ORDER BY MaxCO2 DESC\").show(50)"
   ]
  },
  {
   "cell_type": "code",
   "execution_count": 66,
   "id": "b0b9cfb0-9183-4fa9-ab14-b28241325662",
   "metadata": {},
   "outputs": [
    {
     "name": "stdout",
     "output_type": "stream",
     "text": [
      "+---------+----+---------+---+\n",
      "|device_id|cca3|c02_level|lcd|\n",
      "+---------+----+---------+---+\n",
      "|    82970| ARE|     1599|red|\n",
      "|   124391| ARG|     1599|red|\n",
      "|     4014| AUS|     1599|red|\n",
      "|    41519| AUS|     1599|red|\n",
      "|    55417| AUS|     1599|red|\n",
      "|    65035| AUS|     1599|red|\n",
      "|    88905| AUS|     1599|red|\n",
      "|    96713| BGR|     1599|red|\n",
      "|   104734| BGR|     1599|red|\n",
      "|   114119| BGR|     1599|red|\n",
      "|   122125| BGR|     1599|red|\n",
      "|   195717| BGR|     1599|red|\n",
      "|    91456| BMU|     1599|red|\n",
      "|   184715| BOL|     1599|red|\n",
      "|    16213| BRA|     1599|red|\n",
      "|    43630| BRA|     1599|red|\n",
      "|   140606| BRA|     1599|red|\n",
      "|   144896| BRA|     1599|red|\n",
      "|   168097| BRA|     1599|red|\n",
      "|   193442| BRA|     1599|red|\n",
      "+---------+----+---------+---+\n",
      "only showing top 20 rows\n",
      "\n"
     ]
    }
   ],
   "source": [
    "spark.sql(\"SELECT device_id, cca3, c02_level, lcd FROM iot WHERE lcd=='red' GROUP BY cca3, c02_level, device_id, lcd ORDER BY c02_level DESC, cca3, device_id ASC\").show()"
   ]
  },
  {
   "cell_type": "code",
   "execution_count": 68,
   "id": "355df87d-9fa8-4890-baca-a27019274a06",
   "metadata": {},
   "outputs": [
    {
     "name": "stdout",
     "output_type": "stream",
     "text": [
      "+---------+----+-------------+\n",
      "|device_id|cca3|battery_level|\n",
      "+---------+----+-------------+\n",
      "|   122629| AFG|            0|\n",
      "|   162516| AFG|            0|\n",
      "|   167828| AFG|            0|\n",
      "|    65166| AGO|            0|\n",
      "|   122109| AIA|            0|\n",
      "|   146980| AIA|            0|\n",
      "|    96404| ALA|            0|\n",
      "|   124665| ALA|            0|\n",
      "|   197516| ALA|            0|\n",
      "|    12532| ALB|            0|\n",
      "|    82389| ALB|            0|\n",
      "|   138223| ALB|            0|\n",
      "|     6353| ARE|            0|\n",
      "|    32595| ARE|            0|\n",
      "|    62126| ARE|            0|\n",
      "|    64153| ARE|            0|\n",
      "|    66197| ARE|            0|\n",
      "|    74301| ARE|            0|\n",
      "|    77008| ARE|            0|\n",
      "|    81355| ARE|            0|\n",
      "+---------+----+-------------+\n",
      "only showing top 20 rows\n",
      "\n"
     ]
    }
   ],
   "source": [
    "spark.sql(\"SELECT device_id, cca3, battery_level FROM iot WHERE battery_level==0 GROUP BY cca3, device_id, battery_level ORDER BY cca3, device_id\").show()"
   ]
  },
  {
   "cell_type": "code",
   "execution_count": null,
   "id": "f41a6c4e-f95c-4ad0-b3dd-b4efae9b5682",
   "metadata": {},
   "outputs": [],
   "source": []
  }
 ],
 "metadata": {
  "kernelspec": {
   "display_name": "Python 3 (ipykernel)",
   "language": "python",
   "name": "python3"
  },
  "language_info": {
   "codemirror_mode": {
    "name": "ipython",
    "version": 3
   },
   "file_extension": ".py",
   "mimetype": "text/x-python",
   "name": "python",
   "nbconvert_exporter": "python",
   "pygments_lexer": "ipython3",
   "version": "3.8.16"
  }
 },
 "nbformat": 4,
 "nbformat_minor": 5
}
